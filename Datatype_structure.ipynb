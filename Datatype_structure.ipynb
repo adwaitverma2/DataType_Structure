{
  "nbformat": 4,
  "nbformat_minor": 0,
  "metadata": {
    "colab": {
      "provenance": []
    },
    "kernelspec": {
      "name": "python3",
      "display_name": "Python 3"
    },
    "language_info": {
      "name": "python"
    }
  },
  "cells": [
    {
      "cell_type": "code",
      "execution_count": null,
      "metadata": {
        "colab": {
          "base_uri": "https://localhost:8080/"
        },
        "id": "EVaSz9NzOhW7",
        "outputId": "8f64acc7-2d34-4ade-c488-df63bb7c9c3f"
      },
      "outputs": [
        {
          "output_type": "stream",
          "name": "stdout",
          "text": [
            "My self Adwait Verma\n"
          ]
        }
      ],
      "source": [
        "#Write a code to create a string with your name and print it\n",
        "name = \"Adwait Verma\"\n",
        "print(\"My self\",name)"
      ]
    },
    {
      "cell_type": "code",
      "source": [
        " #Write a code to find the length of the string \"Hello World\"\n",
        " words = \"Hello World\"\n",
        " print(len(words))"
      ],
      "metadata": {
        "colab": {
          "base_uri": "https://localhost:8080/"
        },
        "id": "KMJDaW1WO9NK",
        "outputId": "534a0d32-f063-480f-cd9f-d511fccfada2"
      },
      "execution_count": null,
      "outputs": [
        {
          "output_type": "stream",
          "name": "stdout",
          "text": [
            "11\n"
          ]
        }
      ]
    },
    {
      "cell_type": "code",
      "source": [
        "#Write a code to slice the first 3 characters from the string \"Python Programming\n",
        "word1 = \"Python Programming\"\n",
        "print(word1[0:3])"
      ],
      "metadata": {
        "colab": {
          "base_uri": "https://localhost:8080/"
        },
        "id": "C1Y5Xf-LQBnO",
        "outputId": "fb02ec27-2f4e-4766-ef88-dcae80e4e8be"
      },
      "execution_count": null,
      "outputs": [
        {
          "output_type": "stream",
          "name": "stdout",
          "text": [
            "Pyt\n"
          ]
        }
      ]
    },
    {
      "cell_type": "code",
      "source": [
        "#Write a code to convert the string \"hello\" to uppercase\n",
        "b= \"hello\"\n",
        "print(b.upper())"
      ],
      "metadata": {
        "colab": {
          "base_uri": "https://localhost:8080/"
        },
        "id": "ThA3qx0MRU5O",
        "outputId": "518fce3c-32a3-4857-8b7c-dee4a06af991"
      },
      "execution_count": null,
      "outputs": [
        {
          "output_type": "stream",
          "name": "stdout",
          "text": [
            "HELLO\n"
          ]
        }
      ]
    },
    {
      "cell_type": "code",
      "source": [
        "# Write a code to replace the word \"apple\" with \"orange\" in the string \"I like apple\"\n",
        "c = \"I like apple\"\n",
        "print(c.replace(\"apple\",\"orange\"))"
      ],
      "metadata": {
        "colab": {
          "base_uri": "https://localhost:8080/"
        },
        "id": "9VjnHWbWRtCR",
        "outputId": "f06a3cc5-32b2-4e90-e33d-31141e8b5a72"
      },
      "execution_count": null,
      "outputs": [
        {
          "output_type": "stream",
          "name": "stdout",
          "text": [
            "I like orange\n"
          ]
        }
      ]
    },
    {
      "cell_type": "code",
      "source": [
        "#Write a code to create a list with numbers 1 to 5 and print it\n",
        "list = [1,2,3,4,5]\n",
        "print(list)"
      ],
      "metadata": {
        "colab": {
          "base_uri": "https://localhost:8080/"
        },
        "id": "Xi2AZ9YKRvuj",
        "outputId": "53603563-a7e5-4070-c281-9724322d0d66"
      },
      "execution_count": null,
      "outputs": [
        {
          "output_type": "stream",
          "name": "stdout",
          "text": [
            "[1, 2, 3, 4, 5]\n"
          ]
        }
      ]
    },
    {
      "cell_type": "code",
      "source": [
        "#Write a code to append the number 10 to the list [1, 2, 3, 4]\n",
        "list = [1,2,3,4]\n",
        "list.append(10)\n",
        "print(list)\n"
      ],
      "metadata": {
        "colab": {
          "base_uri": "https://localhost:8080/"
        },
        "id": "-2WMAcmTSf-C",
        "outputId": "ce787a28-0517-49d0-ded9-6c51e3f157e0"
      },
      "execution_count": null,
      "outputs": [
        {
          "output_type": "stream",
          "name": "stdout",
          "text": [
            "[1, 2, 3, 4, 10]\n"
          ]
        }
      ]
    },
    {
      "cell_type": "code",
      "source": [
        "#Write a code to remove the number 3 from the list [1, 2, 3, 4, 5]\n",
        "list = [1,2,3,4,5]\n",
        "list.remove(3)\n",
        "print(list)"
      ],
      "metadata": {
        "id": "YnH1kndpTJAs"
      },
      "execution_count": null,
      "outputs": []
    },
    {
      "cell_type": "code",
      "source": [
        "#Write a code to access the second element in the list ['a', 'b', 'c', 'd']\n",
        "list=['a', 'b', 'c', 'd']\n",
        "print(list[1])"
      ],
      "metadata": {
        "colab": {
          "base_uri": "https://localhost:8080/"
        },
        "id": "37IoFmDwTuS8",
        "outputId": "8c53293a-0d89-40c5-d64a-84f81855ed01"
      },
      "execution_count": null,
      "outputs": [
        {
          "output_type": "stream",
          "name": "stdout",
          "text": [
            "b\n"
          ]
        }
      ]
    },
    {
      "cell_type": "code",
      "source": [
        "#Write a code to reverse the list [10, 20, 30, 40, 50].\n",
        "list = [10, 20, 30, 40, 50]\n",
        "list.reverse()\n",
        "print(list)"
      ],
      "metadata": {
        "colab": {
          "base_uri": "https://localhost:8080/"
        },
        "id": "yxMK6t8HUUbm",
        "outputId": "d7517277-0ca5-48c4-d9df-e9874788d40b"
      },
      "execution_count": null,
      "outputs": [
        {
          "output_type": "stream",
          "name": "stdout",
          "text": [
            "[50, 40, 30, 20, 10]\n"
          ]
        }
      ]
    },
    {
      "cell_type": "code",
      "source": [
        "#Write a code to create a tuple with the elements 100, 200, 300 and print it.\n",
        "tuple = (100,200,300)\n",
        "print(tuple)"
      ],
      "metadata": {
        "colab": {
          "base_uri": "https://localhost:8080/"
        },
        "id": "4wBMHH9OU_Gk",
        "outputId": "dc7dafb6-3cb9-4bf3-a98e-89e3f69cbb0b"
      },
      "execution_count": null,
      "outputs": [
        {
          "output_type": "stream",
          "name": "stdout",
          "text": [
            "(100, 200, 300)\n"
          ]
        }
      ]
    },
    {
      "cell_type": "code",
      "source": [
        "#Write a code to access the second-to-last element of the tuple ('red', 'green', 'blue', 'yellow').\n",
        "tuple = ('red', 'green', 'blue', 'yellow')\n",
        "print(tuple[-2])"
      ],
      "metadata": {
        "colab": {
          "base_uri": "https://localhost:8080/"
        },
        "id": "jMUAUxE3VvAc",
        "outputId": "5a314028-4a28-4c37-d723-8d43b07022bc"
      },
      "execution_count": null,
      "outputs": [
        {
          "output_type": "stream",
          "name": "stdout",
          "text": [
            "blue\n"
          ]
        }
      ]
    },
    {
      "cell_type": "code",
      "source": [
        "# Write a code to find the minimum number in the tuple (10, 20, 5, 15).\n",
        "t = (10, 20, 5, 15)\n",
        "print(min(t))"
      ],
      "metadata": {
        "colab": {
          "base_uri": "https://localhost:8080/"
        },
        "id": "Wh4mPJeLWOiz",
        "outputId": "4e56978a-4cda-41ad-90eb-dc069836d145"
      },
      "execution_count": null,
      "outputs": [
        {
          "output_type": "stream",
          "name": "stdout",
          "text": [
            "5\n"
          ]
        }
      ]
    },
    {
      "cell_type": "code",
      "source": [
        "#Write a code to find the index of the element \"cat\" in the tuple ('dog', 'cat', 'rabbit')\n",
        "t = ('dog', 'cat', 'rabbit')\n",
        "print(t.index(\"cat\"))\n"
      ],
      "metadata": {
        "colab": {
          "base_uri": "https://localhost:8080/"
        },
        "id": "BhIlx-fMW0DH",
        "outputId": "0aa95baa-17a8-425c-ed63-9238bf958f7f"
      },
      "execution_count": null,
      "outputs": [
        {
          "output_type": "stream",
          "name": "stdout",
          "text": [
            "1\n"
          ]
        }
      ]
    },
    {
      "cell_type": "code",
      "source": [
        " #Write a code to create a tuple containing three different fruits and check if \"kiwi\" is in it.\n",
        "\n",
        "fruits = (\"apple\", \"banana\", \"kiwi\")\n",
        "\n",
        "# Checking if 'kiwi' is in the tuple\n",
        "if \"kiwi\" in fruits:\n",
        "    print(\"Yes, 'kiwi' is in the tuple.\")\n",
        "else:\n",
        "    print(\"No, 'kiwi' is not in the tuple.\")\n"
      ],
      "metadata": {
        "colab": {
          "base_uri": "https://localhost:8080/"
        },
        "id": "rYgg8f2YXyPM",
        "outputId": "bf4db7a7-bc78-41ad-d25a-30f3d2391e6b"
      },
      "execution_count": null,
      "outputs": [
        {
          "output_type": "stream",
          "name": "stdout",
          "text": [
            "Yes, 'kiwi' is in the tuple.\n"
          ]
        }
      ]
    },
    {
      "cell_type": "code",
      "source": [
        "#Write a code to create a set with the elements 'a', 'b', 'c' and print it.\n",
        "letter = {\"a\",\"b\",\"c\"}\n",
        "print(letter)"
      ],
      "metadata": {
        "colab": {
          "base_uri": "https://localhost:8080/"
        },
        "id": "ToZfLbDYX2PV",
        "outputId": "578c4892-6e28-4154-8ecc-a8044684ee42"
      },
      "execution_count": null,
      "outputs": [
        {
          "output_type": "stream",
          "name": "stdout",
          "text": [
            "{'a', 'b', 'c'}\n"
          ]
        }
      ]
    },
    {
      "cell_type": "code",
      "source": [
        "#Write a code to clear all elements from the set {1, 2, 3, 4, 5}.\n",
        "set = {1, 2, 3, 4, 5}\n",
        "set.clear()\n",
        "print(set)"
      ],
      "metadata": {
        "colab": {
          "base_uri": "https://localhost:8080/"
        },
        "id": "lnjgCXMl7Jht",
        "outputId": "963607e7-380a-401e-b435-38df200d27e6"
      },
      "execution_count": null,
      "outputs": [
        {
          "output_type": "stream",
          "name": "stdout",
          "text": [
            "set()\n"
          ]
        }
      ]
    },
    {
      "cell_type": "code",
      "source": [
        "#Write a code to remove the element 4 from the set {1, 2, 3, 4}.\n",
        "s = {1,2,3,4}\n",
        "s.remove(4)\n",
        "print(s)"
      ],
      "metadata": {
        "colab": {
          "base_uri": "https://localhost:8080/"
        },
        "id": "RXCK020W7RB6",
        "outputId": "343271dc-2380-4608-a90d-bf1475d2e135"
      },
      "execution_count": null,
      "outputs": [
        {
          "output_type": "stream",
          "name": "stdout",
          "text": [
            "{1, 2, 3}\n"
          ]
        }
      ]
    },
    {
      "cell_type": "code",
      "source": [
        " #Write a code to find the union of two sets {1, 2, 3} and {3, 4, 5}.\n",
        " s1={1,2,3}\n",
        " s2={3,4,5}\n",
        " print(s1.union(s2))"
      ],
      "metadata": {
        "colab": {
          "base_uri": "https://localhost:8080/"
        },
        "id": "kOsHflv27iGm",
        "outputId": "000499dd-27f1-4c38-f381-5ff4cac44699"
      },
      "execution_count": null,
      "outputs": [
        {
          "output_type": "stream",
          "name": "stdout",
          "text": [
            "{1, 2, 3, 4, 5}\n"
          ]
        }
      ]
    },
    {
      "cell_type": "code",
      "source": [
        "#Write a code to find the intersection of two sets {1, 2, 3} and {2, 3, 4}.\n",
        "s1={1,2,3}\n",
        "s2={2,3,4}\n",
        "print(s1.intersection(s2))"
      ],
      "metadata": {
        "colab": {
          "base_uri": "https://localhost:8080/"
        },
        "id": "DeUtOi1f75GR",
        "outputId": "fe138063-43f8-4bd3-eddd-bc9b3eadaad7"
      },
      "execution_count": null,
      "outputs": [
        {
          "output_type": "stream",
          "name": "stdout",
          "text": [
            "{2, 3}\n"
          ]
        }
      ]
    },
    {
      "cell_type": "code",
      "source": [
        "#Write a code to create a dictionary with the keys \"name\", \"age\", and \"city\", and print it\n",
        "dict= {\n",
        "    \"name\": \"Adwait\",\n",
        "    \"age\": 25,\n",
        "    \"city\": \"Lucknow\"\n",
        "}\n",
        "print(dict)\n"
      ],
      "metadata": {
        "colab": {
          "base_uri": "https://localhost:8080/"
        },
        "id": "sNQ2mOnb8L3X",
        "outputId": "7677855a-d460-4ddd-f98e-cd10d9ebb8b8"
      },
      "execution_count": null,
      "outputs": [
        {
          "output_type": "stream",
          "name": "stdout",
          "text": [
            "{'name': 'Adwait', 'age': 25, 'city': 'Lucknow'}\n"
          ]
        }
      ]
    },
    {
      "cell_type": "code",
      "source": [
        "#Write a code to add a new key-value pair \"country\": \"USA\" to the dictionary {'name': 'John', 'age': 25}.\n",
        "dict = {\"name\":\"John\", \"age\":25}\n",
        "dict[\"country\"] = \"USA\"\n",
        "print(dict)"
      ],
      "metadata": {
        "colab": {
          "base_uri": "https://localhost:8080/"
        },
        "id": "VWws4oJg8ZiR",
        "outputId": "f69b1be4-a62e-4328-9833-e0cd9a78bac7"
      },
      "execution_count": null,
      "outputs": [
        {
          "output_type": "stream",
          "name": "stdout",
          "text": [
            "{'name': 'John', 'age': 25, 'country': 'USA'}\n"
          ]
        }
      ]
    },
    {
      "cell_type": "code",
      "source": [
        "#Write a code to access the value associated with the key \"name\" in the dictionary {'name': 'Alice', 'age': 30}.\n",
        "# Define the dictionary\n",
        "person = {'name': 'Alice', 'age': 30}\n",
        "name_value = person['name']\n",
        "print(\"The name is:\", name_value)\n",
        "\n"
      ],
      "metadata": {
        "colab": {
          "base_uri": "https://localhost:8080/"
        },
        "id": "Q_rKKgkS9rTz",
        "outputId": "c01189cf-16d9-4479-fae5-30a20c04884a"
      },
      "execution_count": null,
      "outputs": [
        {
          "output_type": "stream",
          "name": "stdout",
          "text": [
            "The name is: Alice\n"
          ]
        }
      ]
    },
    {
      "cell_type": "code",
      "source": [
        "#Write a code to remove the key \"age\" from the dictionary {'name': 'Bob', 'age': 22, 'city': 'New York'}.\n",
        "dict = {'name': 'Bob', 'age': 22, 'city': 'New York'}\n",
        "del dict[\"age\"]\n",
        "print(dict)"
      ],
      "metadata": {
        "colab": {
          "base_uri": "https://localhost:8080/"
        },
        "id": "JMZ90mwu9yKc",
        "outputId": "109b4050-c899-4c73-da5c-763d6f774aae"
      },
      "execution_count": null,
      "outputs": [
        {
          "output_type": "stream",
          "name": "stdout",
          "text": [
            "{'name': 'Bob', 'city': 'New York'}\n"
          ]
        }
      ]
    },
    {
      "cell_type": "code",
      "source": [
        "#Write a code to check if the key \"city\" exists in the dictionary {'name': 'Alice', 'city': 'Paris'}.\n",
        "dict = {'name': 'Alice', 'city': 'Paris'}\n",
        "if \"city\" in dict:\n",
        "    print(\"The key 'city' exists in the dictionary.\")\n",
        "else:\n",
        "    print(\"The key 'city' does not exist in the dictionary.\")"
      ],
      "metadata": {
        "id": "2rLBtPp--bwo"
      },
      "execution_count": null,
      "outputs": []
    },
    {
      "cell_type": "code",
      "source": [
        "# Write a code to create a list, a tuple, and a dictionary, and print them all.\n",
        "list = [1,2,3,4,5]\n",
        "print(list)\n",
        "tuple = (1,2,3,4,5)\n",
        "print(tuple)\n",
        "dict = {\n",
        "    \"name\": \"Adwait\",\n",
        "    \"age\": 25,\n",
        "    \"city\": \"Lucknow\"\n",
        "}\n",
        "print(dict)"
      ],
      "metadata": {
        "colab": {
          "base_uri": "https://localhost:8080/"
        },
        "id": "HZ5xwAtj-xpd",
        "outputId": "d9091fca-306e-4e67-edf7-2c55133450b4"
      },
      "execution_count": null,
      "outputs": [
        {
          "output_type": "stream",
          "name": "stdout",
          "text": [
            "[1, 2, 3, 4, 5]\n",
            "(1, 2, 3, 4, 5)\n",
            "{'name': 'Adwait', 'age': 25, 'city': 'Lucknow'}\n"
          ]
        }
      ]
    },
    {
      "cell_type": "code",
      "source": [
        "#Write a code to create a list of 5 random numbers between 1 and 100, sort it in ascending order, and print the result.(replaced)\n",
        "import random\n",
        "no = [random.randint(1, 100) for _ in range(5)]\n",
        "no.sort()\n",
        "print(no)"
      ],
      "metadata": {
        "colab": {
          "base_uri": "https://localhost:8080/"
        },
        "id": "YDHieIaW_GOX",
        "outputId": "c47dacc4-5559-4433-b1dc-ba3151d36fc6"
      },
      "execution_count": null,
      "outputs": [
        {
          "output_type": "stream",
          "name": "stdout",
          "text": [
            "[5, 49, 75, 81, 99]\n"
          ]
        }
      ]
    },
    {
      "cell_type": "code",
      "source": [
        "#Write a code to create a list with strings and print the element at the third index.\n",
        "list = [\"apple\", \"banana\", \"cherry\", \"date\", \"elderberry\"]\n",
        "print(list[3])"
      ],
      "metadata": {
        "id": "1ztzsvqN_-sm"
      },
      "execution_count": null,
      "outputs": []
    },
    {
      "cell_type": "code",
      "source": [
        "#Write a code to combine two dictionaries into one and print the result.\n",
        "# Define two dictionaries\n",
        "dict1 = {'a': 1, 'b': 2}\n",
        "dict2 = {'c': 3, 'd': 4}\n",
        "\n",
        "# Combine the dictionaries\n",
        "dict3 = {**dict1, **dict2}\n",
        "\n",
        "# Print the result\n",
        "print(\"Combined dictionary:\", dict3)\n"
      ],
      "metadata": {
        "id": "anEFlwcQAEwO",
        "colab": {
          "base_uri": "https://localhost:8080/"
        },
        "outputId": "be3cb44a-664c-4b10-9786-50129bc0bcfc"
      },
      "execution_count": null,
      "outputs": [
        {
          "output_type": "stream",
          "name": "stdout",
          "text": [
            "Combined dictionary: {'a': 1, 'b': 2, 'c': 3, 'd': 4}\n"
          ]
        }
      ]
    },
    {
      "cell_type": "code",
      "source": [
        " #Write a code to convert a list of strings into a set\n",
        "list_of_strings = [\"apple\", \"banana\", \"cherry\", \"apple\", \"banana\"]\n",
        "set_of_strings = set(list_of_strings)\n",
        "print(set_of_strings)\n",
        "\n",
        "\n",
        "\n",
        "\n"
      ],
      "metadata": {
        "id": "dhFzEPQ9FVe8",
        "colab": {
          "base_uri": "https://localhost:8080/"
        },
        "outputId": "fc4c358c-9582-44c1-c174-ac553b5c3031"
      },
      "execution_count": null,
      "outputs": [
        {
          "output_type": "stream",
          "name": "stdout",
          "text": [
            "{'banana', 'cherry', 'apple'}\n"
          ]
        }
      ]
    },
    {
      "cell_type": "markdown",
      "source": [
        "# Theory Question\n"
      ],
      "metadata": {
        "id": "zzySkZnpqL-T"
      }
    },
    {
      "cell_type": "markdown",
      "source": [
        "#1. What are data structures, and why are they important?\n",
        "Data structures are ways to organize and store data so it can be used efficiently.\n",
        "\n",
        "They help manage and access data quickly and effectively in programs.\n",
        "\n",
        "In Python, common data structures include lists, tuples, sets, and dictionaries.\n",
        "\n",
        "They’re really helpful when it comes to managing or working with large amounts of data."
      ],
      "metadata": {
        "id": "oIR7rGSeqZv0"
      }
    },
    {
      "cell_type": "markdown",
      "source": [
        "#2. Explain the difference between mutable and immutable data types with examples?\n",
        "\n",
        " Mutable types can be changed after creation, while immutable types cannot be changed.\n",
        "\n",
        "List is a common mutable type.\n",
        "\n",
        "For example:\n",
        "\n",
        "list = [1, 2, 3]  \n",
        "list[0] = 10  # This is allowed\n",
        "Tuple and String are immutable.\n",
        "\n",
        "For example:\n",
        "\n",
        "str = \"hello\"  \n",
        "str[0] = \"H\"\n",
        "\n",
        "Mutable types are useful when you want to modify data in-place, like updating a list or dictionary.\n",
        "\n",
        "Immutable types are safer for use in keys of a dictionary or in situations where data shouldn’t change.\n"
      ],
      "metadata": {
        "id": "T_v1RH6urBPT"
      }
    },
    {
      "cell_type": "markdown",
      "source": [
        "# 3.What are the main differences between lists and tuples in Python3?\n",
        "\n",
        "Lists are mutable, meaning you can add, remove, or change items.\n",
        "\n",
        "Tuples are immutable, so once created, you can’t change their values.\n",
        "\n",
        "Lists use more memory than tuples because they support dynamic operations.\n",
        "\n",
        "Tuples are often used for fixed collections of data, like coordinates or constant sets.\n",
        "\n",
        "Example:\n",
        "\n",
        "list = [1, 2, 3]  \n",
        "tuple = (1, 2, 3)"
      ],
      "metadata": {
        "id": "BberF9fzuaTp"
      }
    },
    {
      "cell_type": "markdown",
      "source": [
        "#4. Describe how dictionaries store data\n",
        "Dictionaries store data as key-value pairs, like {\"name\": \"Adwait\", \"age\": 25}.\n",
        "\n",
        "Internally, they use a hash table, which allows quick access to values using keys.\n",
        "\n",
        "The keys must be unique and immutable (e.g., strings, numbers, tuples).\n",
        "\n",
        "When you do dict[\"name\"], Python uses the key's hash to find the value fast.\n",
        "\n",
        "This structure makes dictionaries great for lookup operations."
      ],
      "metadata": {
        "id": "d5wByqhlu31k"
      }
    },
    {
      "cell_type": "markdown",
      "source": [
        "# 5. Why might you use a set instead of a list in Python 3?\n",
        "Sets automatically remove duplicates, making them ideal when you want only unique values.\n",
        "\n",
        "They offer faster membership checks (like if x in my_set) compared to lists.\n",
        "\n",
        "You can perform powerful set operations like union, intersection, and difference easily.\n",
        "\n",
        "Sets are unordered, so if the order doesn’t matter, they’re more efficient.\n",
        "\n",
        "Example use: getting unique email IDs from a list of form submissions."
      ],
      "metadata": {
        "id": "a-1Ln2yf2fZW"
      }
    },
    {
      "cell_type": "markdown",
      "source": [
        "# 6. What is a string in Python, and how is it different from a list?\n",
        "A string is a sequence of characters, written inside quotes like \"hello world\".\n",
        "\n",
        "A list is a collection of items that can hold any data type, including numbers, strings, or even other lists.\n",
        "\n",
        "Strings are immutable, meaning once created, you can’t change their characters.\n",
        "\n",
        "Lists are mutable, so you can add, remove, or modify elements.\n",
        "\n",
        "Example:\n",
        "str = \"hello\"      # string  \n",
        "list = [\"h\", \"e\", \"l\", \"l\", \"o\"]  # list"
      ],
      "metadata": {
        "id": "7RmFudxG4OdM"
      }
    },
    {
      "cell_type": "markdown",
      "source": [
        "# 7. How do tuples ensure data integrity in Python?\n",
        "Tuples are immutable, meaning their content cannot be changed once defined.\n",
        "\n",
        "This ensures the data stays constant and secure, which is useful in situations where it shouldn't be altered.\n",
        "\n",
        "They can be used as dictionary keys or in sets, which require unchangeable values.\n",
        "\n",
        "Tuples help prevent accidental updates in your code.\n",
        "\n",
        "Example:\n",
        "tuple = (10, 20, 30)"
      ],
      "metadata": {
        "id": "I67tK3joyyOe"
      }
    },
    {
      "cell_type": "markdown",
      "source": [
        "#8. What is a hash table, and how does it relate to dictionaries in Python\n",
        "\n",
        "A hash table is a data structure that stores data using a key-value mapping.\n",
        "\n",
        "Python dictionaries are built on top of hash tables for fast data lookup.\n",
        "\n",
        "Each key is converted into a hash code, which helps Python locate the value quickly.\n",
        "\n",
        "Hash tables handle collisions (when two keys hash to the same spot) using internal logic.\n",
        "\n",
        "Thanks to this, dictionary operations like get, set, and delete are usually very efficient (O(1)).\n",
        "\n"
      ],
      "metadata": {
        "id": "EuqnH7j5y3xL"
      }
    },
    {
      "cell_type": "markdown",
      "source": [
        "# 9 .Can lists contain different data types in Python 3?\n",
        "Yes, Python lists are flexible and can store multiple data types in a single list.\n",
        "\n",
        "You can mix integers, strings, floats, booleans, or even other lists.\n",
        "\n",
        "This makes lists useful for grouping related but different kinds of data.\n",
        "\n",
        "Example:\n",
        "\n",
        "mixed_list = [25, \"hello\", 3.14, True]\n",
        "Just keep in mind — while it's allowed, too much mixing can make your code harder to manage."
      ],
      "metadata": {
        "id": "6IHtXRBJ4u8O"
      }
    },
    {
      "cell_type": "markdown",
      "source": [
        "# 10. Explain why strings are immutable in Python\n",
        "Strings in Python are immutable, meaning you can’t change individual characters once the string is created.\n",
        "\n",
        "This design makes strings safe and reliable, especially when shared across parts of a program.\n",
        "\n",
        "Immutability allows strings to be used as dictionary keys and ensures consistent hashing.\n",
        "\n",
        "It also helps Python with memory optimization and performance through string reuse.\n",
        "\n",
        "Example:\n",
        "\n",
        "text = \"hello\"  \n",
        "text[0] = \"H\""
      ],
      "metadata": {
        "id": "svyv9msx4_of"
      }
    },
    {
      "cell_type": "markdown",
      "source": [
        "# 11. What advantages do dictionaries offer over lists for certain tasks?\n",
        "Dictionaries provide fast lookup by key (O(1) time), unlike lists which require scanning through items.\n",
        "\n",
        "They allow key-value pairing, making data more descriptive and easier to work with.\n",
        "\n",
        "Ideal for structured data, like storing student names and their grades: {\"John\": 85}.\n",
        "\n",
        "Updating or finding values is more direct using keys, whereas lists need index positions.\n",
        "\n",
        "They're great when you need to map relationships or build a quick database."
      ],
      "metadata": {
        "id": "oTGd2oPJy8wd"
      }
    },
    {
      "cell_type": "markdown",
      "source": [
        "#12. Describe a scenario where using a tuple would be preferable over a list\n",
        "\n",
        "When you want to store fixed data that should not change, like (latitude, longitude).\n",
        "\n",
        "Tuples are immutable, so they help prevent accidental updates in your code.\n",
        "\n",
        "They're often used as dictionary keys since lists can’t be used due to mutability.\n",
        "\n",
        "In situations requiring better performance and memory usage, tuples are lighter than lists.\n",
        "\n",
        "Example: storing RGB color values as (255, 255, 0) ensures no one modifies them accidentally."
      ],
      "metadata": {
        "id": "5eTi8KYQ0PhI"
      }
    },
    {
      "cell_type": "markdown",
      "source": [
        "# 13. How do sets handle duplicate values in Python\n",
        "Sets automatically remove duplicates, only storing unique values.\n",
        "\n",
        "If you try to add a value that already exists, it simply won’t be added again.\n",
        "\n",
        "This makes sets ideal for tasks like filtering duplicates from a list.\n",
        "\n",
        "Example:\n",
        "\n",
        "set = set([1, 2, 2, 3])  # Output: {1, 2, 3}\n",
        "They use hashing, similar to dictionaries, for fast membership checks."
      ],
      "metadata": {
        "id": "DUghv_yB0lVR"
      }
    },
    {
      "cell_type": "markdown",
      "source": [
        "# 14. How does the “in” keyword work differently for lists and dictionaries\n",
        "In lists, in checks if a value exists in the list.\n",
        "\n",
        "3 in [1, 2, 3]  # True\n",
        "\n",
        "In dictionaries, in checks for the presence of a key, not a value.\n",
        "\n",
        "\"name\" in {\"name\": \"Adwait\"}  # True\n",
        "For values in dictionaries, you’d use:\n",
        "\"Adwait\" in my_dict.values()\n",
        "\n",
        "So, with lists you check the value directly, with dictionaries it's mostly about the key."
      ],
      "metadata": {
        "id": "k3XiEt9O0opv"
      }
    },
    {
      "cell_type": "markdown",
      "source": [
        "# 15. Can you modify the elements of a tuple? Explain why or why not\n",
        "No, you can’t modify elements of a tuple because tuples are immutable.\n",
        "\n",
        "Once a tuple is created, its values are fixed and cannot be changed.\n",
        "\n",
        "This helps in maintaining data integrity and allows them to be used as keys in dictionaries.\n",
        "\n",
        "If you try to change a tuple value, Python will raise a TypeError.\n",
        "\n",
        "Example:\n",
        "\n",
        "tuple = (1, 2, 3)  \n",
        "tuple[0] = 10  #Not allowed"
      ],
      "metadata": {
        "id": "gSjk4e5o0uYC"
      }
    },
    {
      "cell_type": "markdown",
      "source": [
        "#16. What is a nested dictionary, and give an example of its use case\n",
        "A nested dictionary is a dictionary inside another dictionary.\n",
        "\n",
        "It’s used when you need to store structured or grouped data.\n",
        "\n",
        "Useful in scenarios like storing student data where each student has multiple details.\n",
        "\n",
        "Example:\n",
        "\n",
        "students = {\n",
        "    \"Amit\": {\"age\": 20, \"grade\": \"A\"},\n",
        "\n",
        "    \"Sara\": {\"age\": 22, \"grade\": \"B\"}\n",
        "}\n",
        "\n",
        "You can access values like: students[\"Amit\"][\"grade\"] → 'A'"
      ],
      "metadata": {
        "id": "lJ_TQzuo1fUZ"
      }
    },
    {
      "cell_type": "markdown",
      "source": [
        "# 17. Describe the time complexity of accessing elements in a dictionary\n",
        "Dictionary lookup is usually O(1) — very fast, no matter how big the dictionary is.\n",
        "\n",
        "This is possible because dictionaries use a hash table under the hood.\n",
        "\n",
        "Worst-case time can be O(n) in rare collision-heavy cases, but that’s uncommon.\n",
        "\n",
        "So, for most tasks, accessing a key like my_dict[\"name\"] is extremely efficient.\n",
        "\n",
        "That’s why dictionaries are often chosen for fast lookups."
      ],
      "metadata": {
        "id": "Q3u1JbWf1s4v"
      }
    },
    {
      "cell_type": "markdown",
      "source": [
        "#18. In what situations are lists preferred over dictionaries\n",
        "When you need to maintain the order of elements exactly as inserted.\n",
        "\n",
        "If you don’t need key-value mapping, just a sequence of items (like a to-do list).\n",
        "\n",
        "When working with small datasets, lists are simpler and use less memory.\n",
        "\n",
        "Useful for iterating through values without needing labels or identifiers.\n",
        "\n",
        "Example: list of items in a shopping cart: [\"apple\", \"banana\", \"grapes\"]"
      ],
      "metadata": {
        "id": "OTssUaJj1vCP"
      }
    },
    {
      "cell_type": "markdown",
      "source": [
        "#19. Why are dictionaries considered unordered, and how does that affect data retrieval\n",
        "Before Python 3.7, dictionaries didn’t preserve the insertion order of keys.\n",
        "\n",
        "This means you couldn’t rely on the order in which items appeared during iteration.\n",
        "\n",
        "Even though Python 3.7+ maintains insertion order, dictionaries are still logically unordered, meaning key-based access matters, not position.\n",
        "\n",
        "You can’t access items by index like dict[0] — only by specific keys.\n",
        "\n",
        "This affects tasks where sequence matters, like sorting or indexing."
      ],
      "metadata": {
        "id": "6zz4QOr12C0R"
      }
    },
    {
      "cell_type": "markdown",
      "source": [
        "#20. Explain the difference between a list and a dictionary in terms of data retrieval\n",
        "Lists use index-based access, like my_list[0], so position matters.\n",
        "\n",
        "Dictionaries use key-based access, like my_dict[\"name\"], which is more descriptive.\n",
        "\n",
        "List lookups are O(n) if you search by value, but O(1) by index.\n",
        "\n",
        "Dictionary lookups are usually O(1) using keys, regardless of position.\n",
        "\n",
        "Use a list when order or sequence is important, and a dictionary when you need labeled data."
      ],
      "metadata": {
        "id": "0ihu9j8x2IxB"
      }
    }
  ]
}